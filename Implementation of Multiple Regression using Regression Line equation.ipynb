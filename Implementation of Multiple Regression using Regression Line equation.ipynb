{
 "cells": [
  {
   "cell_type": "code",
   "execution_count": 1,
   "id": "3a7d66cd",
   "metadata": {},
   "outputs": [],
   "source": [
    "import pandas as pd\n",
    "import numpy as np\n",
    "from sklearn import linear_model"
   ]
  },
  {
   "cell_type": "code",
   "execution_count": 2,
   "id": "302e93ff",
   "metadata": {},
   "outputs": [
    {
     "data": {
      "text/plain": [
       "0        Toyota\n",
       "1    Mitsubishi\n",
       "2         skoda\n",
       "3          Fait\n",
       "4          Mini\n",
       "5            VW\n",
       "6         Skoda\n",
       "7      Mercedes\n",
       "8          Ford\n",
       "9          Audi\n",
       "dtype: object"
      ]
     },
     "execution_count": 2,
     "metadata": {},
     "output_type": "execute_result"
    }
   ],
   "source": [
    "#Car\n",
    "df=pd.read(\"\")\n",
    "Car=pd.Series(['Toyota','Mitsubishi','skoda','Fait','Mini','VW','Skoda','Mercedes','Ford','Audi'])\n",
    "Car"
   ]
  },
  {
   "cell_type": "code",
   "execution_count": 3,
   "id": "0e711b3f",
   "metadata": {},
   "outputs": [
    {
     "data": {
      "text/plain": [
       "0          Ayogo\n",
       "1    Space Start\n",
       "2         Citigo\n",
       "3            500\n",
       "4         Cooper\n",
       "5            UP!\n",
       "6          Fabia\n",
       "7        A-Class\n",
       "8         Fiesta\n",
       "9             A1\n",
       "dtype: object"
      ]
     },
     "execution_count": 3,
     "metadata": {},
     "output_type": "execute_result"
    }
   ],
   "source": [
    "#Model\n",
    "Model=pd.Series(['Ayogo','Space Start','Citigo','500','Cooper','UP!','Fabia','A-Class','Fiesta','A1'])\n",
    "Model"
   ]
  },
  {
   "cell_type": "code",
   "execution_count": 4,
   "id": "621bbecc",
   "metadata": {},
   "outputs": [
    {
     "data": {
      "text/plain": [
       "0    1000\n",
       "1    1200\n",
       "2    1000\n",
       "3     900\n",
       "4    1500\n",
       "5    1000\n",
       "6    1400\n",
       "7    1500\n",
       "8    1500\n",
       "9    1600\n",
       "dtype: int64"
      ]
     },
     "execution_count": 4,
     "metadata": {},
     "output_type": "execute_result"
    }
   ],
   "source": [
    "#Volume\n",
    "Volume=pd.Series([1000,1200,1000,900,1500,1000,1400,1500,1500,1600])\n",
    "Volume"
   ]
  },
  {
   "cell_type": "code",
   "execution_count": 5,
   "id": "d6669d81",
   "metadata": {},
   "outputs": [
    {
     "data": {
      "text/plain": [
       "0     790\n",
       "1    1160\n",
       "2     929\n",
       "3     865\n",
       "4    1140\n",
       "5     929\n",
       "6    1109\n",
       "7    1365\n",
       "8    1112\n",
       "9    1150\n",
       "dtype: int64"
      ]
     },
     "execution_count": 5,
     "metadata": {},
     "output_type": "execute_result"
    }
   ],
   "source": [
    "#Weight\n",
    "Weight=pd.Series([790,1160,929,865,1140,929,1109,1365,1112,1150])\n",
    "Weight"
   ]
  },
  {
   "cell_type": "code",
   "execution_count": 6,
   "id": "86bf8370",
   "metadata": {},
   "outputs": [
    {
     "data": {
      "text/plain": [
       "0     99\n",
       "1     95\n",
       "2     95\n",
       "3     90\n",
       "4    105\n",
       "5    105\n",
       "6     90\n",
       "7     92\n",
       "8     98\n",
       "9     99\n",
       "dtype: int64"
      ]
     },
     "execution_count": 6,
     "metadata": {},
     "output_type": "execute_result"
    }
   ],
   "source": [
    "CO2=pd.Series([99,95,95,90,105,105,90,92,98,99])\n",
    "CO2"
   ]
  },
  {
   "cell_type": "markdown",
   "id": "7f7aecff",
   "metadata": {},
   "source": [
    "# Make dataset of these column using dataframe datatype"
   ]
  },
  {
   "cell_type": "code",
   "execution_count": 8,
   "id": "a8338765",
   "metadata": {},
   "outputs": [
    {
     "data": {
      "text/html": [
       "<div>\n",
       "<style scoped>\n",
       "    .dataframe tbody tr th:only-of-type {\n",
       "        vertical-align: middle;\n",
       "    }\n",
       "\n",
       "    .dataframe tbody tr th {\n",
       "        vertical-align: top;\n",
       "    }\n",
       "\n",
       "    .dataframe thead th {\n",
       "        text-align: right;\n",
       "    }\n",
       "</style>\n",
       "<table border=\"1\" class=\"dataframe\">\n",
       "  <thead>\n",
       "    <tr style=\"text-align: right;\">\n",
       "      <th></th>\n",
       "      <th>Car</th>\n",
       "      <th>Model</th>\n",
       "      <th>Volume</th>\n",
       "      <th>weight</th>\n",
       "      <th>CO2</th>\n",
       "    </tr>\n",
       "  </thead>\n",
       "  <tbody>\n",
       "    <tr>\n",
       "      <th>0</th>\n",
       "      <td>Toyota</td>\n",
       "      <td>Ayogo</td>\n",
       "      <td>1000</td>\n",
       "      <td>790</td>\n",
       "      <td>99</td>\n",
       "    </tr>\n",
       "    <tr>\n",
       "      <th>1</th>\n",
       "      <td>Mitsubishi</td>\n",
       "      <td>Space Start</td>\n",
       "      <td>1200</td>\n",
       "      <td>1160</td>\n",
       "      <td>95</td>\n",
       "    </tr>\n",
       "    <tr>\n",
       "      <th>2</th>\n",
       "      <td>skoda</td>\n",
       "      <td>Citigo</td>\n",
       "      <td>1000</td>\n",
       "      <td>929</td>\n",
       "      <td>95</td>\n",
       "    </tr>\n",
       "    <tr>\n",
       "      <th>3</th>\n",
       "      <td>Fait</td>\n",
       "      <td>500</td>\n",
       "      <td>900</td>\n",
       "      <td>865</td>\n",
       "      <td>90</td>\n",
       "    </tr>\n",
       "    <tr>\n",
       "      <th>4</th>\n",
       "      <td>Mini</td>\n",
       "      <td>Cooper</td>\n",
       "      <td>1500</td>\n",
       "      <td>1140</td>\n",
       "      <td>105</td>\n",
       "    </tr>\n",
       "    <tr>\n",
       "      <th>5</th>\n",
       "      <td>VW</td>\n",
       "      <td>UP!</td>\n",
       "      <td>1000</td>\n",
       "      <td>929</td>\n",
       "      <td>105</td>\n",
       "    </tr>\n",
       "    <tr>\n",
       "      <th>6</th>\n",
       "      <td>Skoda</td>\n",
       "      <td>Fabia</td>\n",
       "      <td>1400</td>\n",
       "      <td>1109</td>\n",
       "      <td>90</td>\n",
       "    </tr>\n",
       "    <tr>\n",
       "      <th>7</th>\n",
       "      <td>Mercedes</td>\n",
       "      <td>A-Class</td>\n",
       "      <td>1500</td>\n",
       "      <td>1365</td>\n",
       "      <td>92</td>\n",
       "    </tr>\n",
       "    <tr>\n",
       "      <th>8</th>\n",
       "      <td>Ford</td>\n",
       "      <td>Fiesta</td>\n",
       "      <td>1500</td>\n",
       "      <td>1112</td>\n",
       "      <td>98</td>\n",
       "    </tr>\n",
       "    <tr>\n",
       "      <th>9</th>\n",
       "      <td>Audi</td>\n",
       "      <td>A1</td>\n",
       "      <td>1600</td>\n",
       "      <td>1150</td>\n",
       "      <td>99</td>\n",
       "    </tr>\n",
       "  </tbody>\n",
       "</table>\n",
       "</div>"
      ],
      "text/plain": [
       "          Car        Model  Volume  weight  CO2\n",
       "0      Toyota        Ayogo    1000     790   99\n",
       "1  Mitsubishi  Space Start    1200    1160   95\n",
       "2       skoda       Citigo    1000     929   95\n",
       "3        Fait          500     900     865   90\n",
       "4        Mini       Cooper    1500    1140  105\n",
       "5          VW          UP!    1000     929  105\n",
       "6       Skoda        Fabia    1400    1109   90\n",
       "7    Mercedes      A-Class    1500    1365   92\n",
       "8        Ford       Fiesta    1500    1112   98\n",
       "9        Audi           A1    1600    1150   99"
      ]
     },
     "execution_count": 8,
     "metadata": {},
     "output_type": "execute_result"
    }
   ],
   "source": [
    "df=pd.DataFrame({\"Car\":Car,\"Model\":Model,\"Volume\":Volume,\"weight\":Weight,\"CO2\":CO2})\n",
    "df"
   ]
  },
  {
   "cell_type": "code",
   "execution_count": 9,
   "id": "1f78afbb",
   "metadata": {},
   "outputs": [
    {
     "data": {
      "text/html": [
       "<div>\n",
       "<style scoped>\n",
       "    .dataframe tbody tr th:only-of-type {\n",
       "        vertical-align: middle;\n",
       "    }\n",
       "\n",
       "    .dataframe tbody tr th {\n",
       "        vertical-align: top;\n",
       "    }\n",
       "\n",
       "    .dataframe thead th {\n",
       "        text-align: right;\n",
       "    }\n",
       "</style>\n",
       "<table border=\"1\" class=\"dataframe\">\n",
       "  <thead>\n",
       "    <tr style=\"text-align: right;\">\n",
       "      <th></th>\n",
       "      <th>Volume</th>\n",
       "      <th>weight</th>\n",
       "      <th>CO2</th>\n",
       "    </tr>\n",
       "  </thead>\n",
       "  <tbody>\n",
       "    <tr>\n",
       "      <th>0</th>\n",
       "      <td>1000</td>\n",
       "      <td>790</td>\n",
       "      <td>99</td>\n",
       "    </tr>\n",
       "    <tr>\n",
       "      <th>1</th>\n",
       "      <td>1200</td>\n",
       "      <td>1160</td>\n",
       "      <td>95</td>\n",
       "    </tr>\n",
       "    <tr>\n",
       "      <th>2</th>\n",
       "      <td>1000</td>\n",
       "      <td>929</td>\n",
       "      <td>95</td>\n",
       "    </tr>\n",
       "    <tr>\n",
       "      <th>3</th>\n",
       "      <td>900</td>\n",
       "      <td>865</td>\n",
       "      <td>90</td>\n",
       "    </tr>\n",
       "    <tr>\n",
       "      <th>4</th>\n",
       "      <td>1500</td>\n",
       "      <td>1140</td>\n",
       "      <td>105</td>\n",
       "    </tr>\n",
       "    <tr>\n",
       "      <th>5</th>\n",
       "      <td>1000</td>\n",
       "      <td>929</td>\n",
       "      <td>105</td>\n",
       "    </tr>\n",
       "    <tr>\n",
       "      <th>6</th>\n",
       "      <td>1400</td>\n",
       "      <td>1109</td>\n",
       "      <td>90</td>\n",
       "    </tr>\n",
       "    <tr>\n",
       "      <th>7</th>\n",
       "      <td>1500</td>\n",
       "      <td>1365</td>\n",
       "      <td>92</td>\n",
       "    </tr>\n",
       "    <tr>\n",
       "      <th>8</th>\n",
       "      <td>1500</td>\n",
       "      <td>1112</td>\n",
       "      <td>98</td>\n",
       "    </tr>\n",
       "    <tr>\n",
       "      <th>9</th>\n",
       "      <td>1600</td>\n",
       "      <td>1150</td>\n",
       "      <td>99</td>\n",
       "    </tr>\n",
       "  </tbody>\n",
       "</table>\n",
       "</div>"
      ],
      "text/plain": [
       "   Volume  weight  CO2\n",
       "0    1000     790   99\n",
       "1    1200    1160   95\n",
       "2    1000     929   95\n",
       "3     900     865   90\n",
       "4    1500    1140  105\n",
       "5    1000     929  105\n",
       "6    1400    1109   90\n",
       "7    1500    1365   92\n",
       "8    1500    1112   98\n",
       "9    1600    1150   99"
      ]
     },
     "execution_count": 9,
     "metadata": {},
     "output_type": "execute_result"
    }
   ],
   "source": [
    "#we dont need car and Model Columns so\n",
    "df=pd.DataFrame({\"Volume\":Volume,\"weight\":Weight,\"CO2\":CO2})\n",
    "df"
   ]
  },
  {
   "cell_type": "code",
   "execution_count": 10,
   "id": "2b31a6c8",
   "metadata": {},
   "outputs": [
    {
     "data": {
      "text/plain": [
       "LinearRegression()"
      ]
     },
     "execution_count": 10,
     "metadata": {},
     "output_type": "execute_result"
    }
   ],
   "source": [
    "reg = linear_model.LinearRegression()\n",
    "reg.fit(df.drop('CO2',axis='columns'),df.CO2)"
   ]
  },
  {
   "cell_type": "code",
   "execution_count": 11,
   "id": "c407c599",
   "metadata": {},
   "outputs": [],
   "source": [
    "m=reg.coef_"
   ]
  },
  {
   "cell_type": "code",
   "execution_count": 12,
   "id": "df1425db",
   "metadata": {},
   "outputs": [],
   "source": [
    "c=reg.intercept_"
   ]
  },
  {
   "cell_type": "code",
   "execution_count": 13,
   "id": "a3426efa",
   "metadata": {},
   "outputs": [
    {
     "name": "stderr",
     "output_type": "stream",
     "text": [
      "C:\\Users\\fandy\\AppData\\Roaming\\Python\\Python37\\site-packages\\sklearn\\base.py:451: UserWarning: X does not have valid feature names, but LinearRegression was fitted with feature names\n",
      "  \"X does not have valid feature names, but\"\n"
     ]
    },
    {
     "data": {
      "text/plain": [
       "array([66.45856881])"
      ]
     },
     "execution_count": 13,
     "metadata": {},
     "output_type": "execute_result"
    }
   ],
   "source": [
    "#Finding the CO2 emmision of a car where weight is 2400kg, and the volume is 1200cm2\n",
    "reg.predict([[1200, 2400]])"
   ]
  },
  {
   "cell_type": "code",
   "execution_count": 16,
   "id": "f9a1c18d",
   "metadata": {},
   "outputs": [],
   "source": [
    "#sing c+m1x1+m2x2+m3x3+M4x4 ----- formula to verify answer\n",
    "\n",
    "##reg.coef_*1200+reg.coef_*2400+ reg.intercept_ (m1x1+m2x2+c)\n"
   ]
  },
  {
   "cell_type": "markdown",
   "id": "d32ad16c",
   "metadata": {},
   "source": [
    "# I have used only 10 dataset"
   ]
  },
  {
   "cell_type": "code",
   "execution_count": 15,
   "id": "1735d333",
   "metadata": {},
   "outputs": [
    {
     "data": {
      "text/plain": [
       "66.45856881452269"
      ]
     },
     "execution_count": 15,
     "metadata": {},
     "output_type": "execute_result"
    }
   ],
   "source": [
    "m[0]*1200 + m[1]*2400 + c"
   ]
  },
  {
   "cell_type": "code",
   "execution_count": null,
   "id": "4516afa1",
   "metadata": {},
   "outputs": [],
   "source": []
  }
 ],
 "metadata": {
  "kernelspec": {
   "display_name": "Python 3 (ipykernel)",
   "language": "python",
   "name": "python3"
  },
  "language_info": {
   "codemirror_mode": {
    "name": "ipython",
    "version": 3
   },
   "file_extension": ".py",
   "mimetype": "text/x-python",
   "name": "python",
   "nbconvert_exporter": "python",
   "pygments_lexer": "ipython3",
   "version": "3.7.9"
  }
 },
 "nbformat": 4,
 "nbformat_minor": 5
}
