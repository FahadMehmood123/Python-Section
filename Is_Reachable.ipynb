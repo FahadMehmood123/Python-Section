{
 "cells": [
  {
   "cell_type": "code",
   "execution_count": null,
   "id": "a939ddb5",
   "metadata": {},
   "outputs": [],
   "source": [
    "init_state=[2,8,3,1,6,4,7,0,5]\n",
    "goal_state=[1,2,3,8,0,4,7,6,5]\n",
    "\n",
    "def solvability(init_state,goal_state):\n",
    "    init_count=0\n",
    "    goal_count=0\n",
    "    temp=0\n",
    "    temp2=0\n",
    "    flag1=True\n",
    "    flag2=True\n",
    "    while flag1:\n",
    "        b=temp\n",
    "        while b<len(init_state):\n",
    "            if(init_state[b]==0):\n",
    "                b+=1\n",
    "                continue\n",
    "            elif(init_state[temp]>init_state[b]):\n",
    "                init_count+=1\n",
    "            b+=1\n",
    "        temp+=1\n",
    "        if temp==len(init_state):\n",
    "            flag1=False\n",
    "    while flag2:\n",
    "        b2=temp2\n",
    "        while b2<len(goal_state):\n",
    "            if(init_state[b2]==0):\n",
    "                b2+=1\n",
    "                continue\n",
    "            elif(goal_state[temp2]>goal_state[b2]):\n",
    "                goal_count+=1\n",
    "            b2+=1\n",
    "        temp2+=1\n",
    "        if temp2==len(goal_state):\n",
    "            flag2=False\n",
    "    if(init_count % 2 == 0 and goal_count%2 == 0):\n",
    "        return True\n",
    "    elif(init_count % 2 != 0 and goal_count%2 !=0):\n",
    "        return True\n",
    "    else:\n",
    "        return False\n",
    "\n",
    "if(solvability(init_state,goal_state))==True:\n",
    "    print(\"Goal is reachable\")\n",
    "else:\n",
    "    print(\"Goal is Un-Reachable\")\n",
    "    "
   ]
  }
 ],
 "metadata": {
  "kernelspec": {
   "display_name": "Python 3 (ipykernel)",
   "language": "python",
   "name": "python3"
  },
  "language_info": {
   "codemirror_mode": {
    "name": "ipython",
    "version": 3
   },
   "file_extension": ".py",
   "mimetype": "text/x-python",
   "name": "python",
   "nbconvert_exporter": "python",
   "pygments_lexer": "ipython3",
   "version": "3.7.9"
  }
 },
 "nbformat": 4,
 "nbformat_minor": 5
}
